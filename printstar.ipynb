{
 "cells": [
  {
   "cell_type": "code",
   "execution_count": 2,
   "metadata": {},
   "outputs": [
    {
     "name": "stdout",
     "output_type": "stream",
     "text": [
      "    * 1\n",
      "   ** 23\n",
      "  *** 345\n",
      " **** 4567\n",
      "***** 56789\n"
     ]
    }
   ],
   "source": [
    "n = int(input(\"Please enter number of rows: \"))\n",
    "for i in range(n):\n",
    "    m = i+1\n",
    "    for j in range (n-i-1):\n",
    "        print(\" \", end='')\n",
    "    for j in range(i+1):\n",
    "        print('*',end='') \n",
    "    print(end=\" \")\n",
    "    for j in range(i+1):\n",
    "        print(m,end='')\n",
    "        m+=1\n",
    "    print()"
   ]
  },
  {
   "cell_type": "code",
   "execution_count": null,
   "metadata": {},
   "outputs": [],
   "source": []
  }
 ],
 "metadata": {
  "kernelspec": {
   "display_name": "Python 3",
   "language": "python",
   "name": "python3"
  },
  "language_info": {
   "codemirror_mode": {
    "name": "ipython",
    "version": 3
   },
   "file_extension": ".py",
   "mimetype": "text/x-python",
   "name": "python",
   "nbconvert_exporter": "python",
   "pygments_lexer": "ipython3",
   "version": "3.10.11"
  },
  "orig_nbformat": 4
 },
 "nbformat": 4,
 "nbformat_minor": 2
}
