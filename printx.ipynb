{
 "cells": [
  {
   "cell_type": "code",
   "execution_count": 2,
   "metadata": {},
   "outputs": [
    {
     "name": "stdout",
     "output_type": "stream",
     "text": [
      "1           7 \n",
      "  2       6   \n",
      "    3   5     \n",
      "      4       \n",
      "    3   5     \n",
      "  2       6   \n",
      "1           7 \n"
     ]
    }
   ],
   "source": [
    "num = input(\"Please enter an odd length number: \")\n",
    "for i in range(len(num)):\n",
    "    for j in range(len(num)):\n",
    "        if i==j or i+j==len(num)-1:\n",
    "            print(num[j],end=\" \")\n",
    "        else:\n",
    "            print(' ', end=' ')\n",
    "    print()"
   ]
  },
  {
   "cell_type": "code",
   "execution_count": null,
   "metadata": {},
   "outputs": [],
   "source": []
  }
 ],
 "metadata": {
  "kernelspec": {
   "display_name": "Python 3",
   "language": "python",
   "name": "python3"
  },
  "language_info": {
   "codemirror_mode": {
    "name": "ipython",
    "version": 3
   },
   "file_extension": ".py",
   "mimetype": "text/x-python",
   "name": "python",
   "nbconvert_exporter": "python",
   "pygments_lexer": "ipython3",
   "version": "3.10.11"
  },
  "orig_nbformat": 4
 },
 "nbformat": 4,
 "nbformat_minor": 2
}
